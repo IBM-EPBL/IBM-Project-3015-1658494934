{
  "nbformat": 4,
  "nbformat_minor": 0,
  "metadata": {
    "colab": {
      "provenance": [],
      "collapsed_sections": []
    },
    "kernelspec": {
      "name": "python3",
      "display_name": "Python 3"
    },
    "language_info": {
      "name": "python"
    }
  },
  "cells": [
    {
      "cell_type": "code",
      "source": [
        "from ibm_watson_machine_learning import APIClient\n",
        "import tarfile\n",
        "\n",
        "web_cred={\n",
        "    \"apikey\": \"k5dhyLxzvxOg0E6KPDSTLtIQgenUGD3loujiRCWrBErK\",\n",
        "\t\"url\": \"https://eu-gb.ml.cloud.ibm.com\"\n",
        "}\n",
        "\n",
        "client=APIClient(web_cred)"
      ],
      "metadata": {
        "id": "CYHujTRiINey"
      },
      "execution_count": null,
      "outputs": []
    },
    {
      "cell_type": "code",
      "source": [
        "spaceID=\"e4ef5efc-e11a-41cc-9c1e-b45c6a510aeb\"\n",
        "client.set.default_space(spaceID)"
      ],
      "metadata": {
        "id": "Y7OpEtt-ITBb"
      },
      "execution_count": null,
      "outputs": []
    },
    {
      "cell_type": "markdown",
      "source": [
        "     'SUCCESS'"
      ],
      "metadata": {
        "id": "tYN6nSeBIOer"
      }
    },
    {
      "cell_type": "code",
      "source": [
        "model_id=\"e85e52c1-6ab2-4fa5-a56e-5610b7368292\""
      ],
      "metadata": {
        "id": "HlVZCHYEIciY"
      },
      "execution_count": null,
      "outputs": []
    },
    {
      "cell_type": "code",
      "source": [
        "client.repository.download(model_id,'Model/sign.tgz')"
      ],
      "metadata": {
        "id": "uoAQ1Xn3Igl6"
      },
      "execution_count": null,
      "outputs": []
    },
    {
      "cell_type": "markdown",
      "source": [
        "Successfully saved model content to file: 'Model/sign.tgz'\n",
        "'c:\\\\Users\\\\Deva\\\\Documents\\\\PROGRAMMING\\\\Project/Model/sign.tgz'"
      ],
      "metadata": {
        "id": "-2tfo7b3Imn1"
      }
    },
    {
      "cell_type": "code",
      "source": [
        "!tar xvf Model/sign.tgz --directory \"/Users/Deva/Documents/PROGRAMMING/Project/Model/\""
      ],
      "metadata": {
        "id": "EEP4kWBOIrb8"
      },
      "execution_count": null,
      "outputs": []
    },
    {
      "cell_type": "markdown",
      "source": [
        "    x keras_model.h5"
      ],
      "metadata": {
        "id": "M0rZXVSAIvlf"
      }
    }
  ]
}