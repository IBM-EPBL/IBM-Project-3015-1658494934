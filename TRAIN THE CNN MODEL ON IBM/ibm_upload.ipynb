{
  "nbformat": 4,
  "nbformat_minor": 0,
  "metadata": {
    "colab": {
      "provenance": [],
      "collapsed_sections": []
    },
    "kernelspec": {
      "name": "python3",
      "display_name": "Python 3"
    },
    "language_info": {
      "name": "python"
    }
  },
  "cells": [
    {
      "cell_type": "code",
      "source": [
        "from ibm_watson_machine_learning import APIClient\n",
        "\n",
        "web_cred={\n",
        "    \"apikey\": \"k5dhyLxzvxOg0E6KPDSTLtIQgenUGD3loujiRCWrBErK\",\n",
        "\t\"url\": \"https://eu-gb.ml.cloud.ibm.com\"\n",
        "}\n",
        "\n",
        "client=APIClient(web_cred)"
      ],
      "metadata": {
        "id": "qvJvHo0TqQQK"
      },
      "execution_count": null,
      "outputs": []
    },
    {
      "cell_type": "code",
      "source": [
        "spaceID=\"e4ef5efc-e11a-41cc-9c1e-b45c6a510aeb\"\n",
        "x=client.set.default_space(spaceID)\n",
        "x"
      ],
      "metadata": {
        "id": "VKx7HOBCqb9k"
      },
      "execution_count": null,
      "outputs": []
    },
    {
      "cell_type": "markdown",
      "source": [
        "      'SUCCESS'"
      ],
      "metadata": {
        "id": "s5wIa4UnqXhc"
      }
    },
    {
      "cell_type": "code",
      "source": [
        "sw_id=client.software_specifications.get_uid_by_name(\"tensorflow_rt22.1-py3.9\")\n",
        "sw_id"
      ],
      "metadata": {
        "id": "wg8IQcxJqoZi"
      },
      "execution_count": null,
      "outputs": []
    },
    {
      "cell_type": "markdown",
      "source": [
        "   'acd9c798-6974-5d2f-a657-ce06e986df4d'"
      ],
      "metadata": {
        "id": "gMv_2bVCqqAR"
      }
    },
    {
      "cell_type": "code",
      "source": [
        "!tar -zcvf sign_lang.tgz keras_model.h5"
      ],
      "metadata": {
        "id": "4dAN1llJqtol"
      },
      "execution_count": null,
      "outputs": []
    },
    {
      "cell_type": "markdown",
      "source": [
        "a keras_model.h5"
      ],
      "metadata": {
        "id": "UH6raDpqqx4X"
      }
    },
    {
      "cell_type": "code",
      "source": [
        "model_details=client.repository.store_model(model=\"sign_lang.tgz\",meta_props={\n",
        "    client.repository.ModelMetaNames.NAME: \"CNN_sign_lang\",\n",
        "    client.repository.ModelMetaNames.TYPE: \"tensorflow_2.7\",\n",
        "    client.repository.ModelMetaNames.SOFTWARE_SPEC_UID:sw_id\n",
        "})"
      ],
      "metadata": {
        "id": "Z_5jtM-oq-Jn"
      },
      "execution_count": null,
      "outputs": []
    },
    {
      "cell_type": "code",
      "source": [
        "model_details"
      ],
      "metadata": {
        "id": "rlzC9f0UrCdr"
      },
      "execution_count": null,
      "outputs": []
    },
    {
      "cell_type": "markdown",
      "source": [
        "    {'entity': {'hybrid_pipeline_software_specs': [],\n",
        "    'software_spec': {'id': 'acd9c798-6974-5d2f-a657-ce06e986df4d',\n",
        "    'name': 'tensorflow_rt22.1-py3.9'},\n",
        "    'type': 'tensorflow_2.7'},\n",
        "    'metadata': {'created_at': '2022-11-07T04:58:57.379Z',\n",
        "    'id': 'e85e52c1-6ab2-4fa5-a56e-5610b7368292',\n",
        "    'modified_at': '2022-11-07T04:59:02.593Z',\n",
        "    'name': 'CNN_sign_lang',\n",
        "    'owner': 'IBMid-668000CNQ0',\n",
        "    'resource_key': 'd767170e-5545-4e10-9c54-687fed2e8128',\n",
        "    'space_id': 'e4ef5efc-e11a-41cc-9c1e-b45c6a510aeb'},\n",
        "    'system': {'warnings': []}}"
      ],
      "metadata": {
        "id": "Iv6zkJAJq_H2"
      }
    },
    {
      "cell_type": "code",
      "source": [
        "model_id=client.repository.get_model_id(model_details)\n",
        "model_id"
      ],
      "metadata": {
        "id": "y9JPAHmzrkX6"
      },
      "execution_count": null,
      "outputs": []
    },
    {
      "cell_type": "markdown",
      "source": [
        "   'e85e52c1-6ab2-4fa5-a56e-5610b7368292'"
      ],
      "metadata": {
        "id": "x8aKr4qwrqF2"
      }
    },
    {
      "cell_type": "code",
      "source": [
        "client.repository.list()"
      ],
      "metadata": {
        "id": "q9W4uTuNr-fW"
      },
      "execution_count": null,
      "outputs": []
    },
    {
      "cell_type": "markdown",
      "source": [
        "------------------------------------  -------------  ------------------------  --------------  -----\n",
        "GUID                                  NAME           CREATED                   FRAMEWORK       TYPE\n",
        "e85e52c1-6ab2-4fa5-a56e-5610b7368292  CNN_sign_lang  2022-11-07T04:58:57.002Z  tensorflow_2.7  model\n",
        "------------------------------------  -------------  ------------------------  --------------  -----"
      ],
      "metadata": {
        "id": "C5EOXDa-sDlY"
      }
    },
    {
      "cell_type": "code",
      "source": [
        "model_id=\"e85e52c1-6ab2-4fa5-a56e-5610b7368292\"\n",
        "client.repository.download(model_id,\"sign_lang_1.tgz\")"
      ],
      "metadata": {
        "id": "yG7uzcbesKdF"
      },
      "execution_count": null,
      "outputs": []
    },
    {
      "cell_type": "markdown",
      "source": [
        "Successfully saved model content to file: 'sign_lang_1.tgz'\n",
        "'c:\\\\Users\\\\Deva\\\\Documents\\\\PROGRAMMING\\\\Project/sign_lang_1.tgz'"
      ],
      "metadata": {
        "id": "P_VqiA_GsU3q"
      }
    }
  ]
}